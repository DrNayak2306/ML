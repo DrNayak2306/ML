{
 "cells": [
  {
   "cell_type": "code",
   "execution_count": null,
   "id": "5040a397",
   "metadata": {},
   "outputs": [],
   "source": [
    "\"\"\"\n",
    "Setup\n",
    "\"\"\"\n",
    "\n",
    "import numpy as np\n",
    "import time\n",
    "np.random.seed(1)\n",
    "\n",
    "def clock(n, func):\n",
    "    start = time.time()\n",
    "    func(n)\n",
    "    end = time.time()\n",
    "    return end-start\n",
    "\n",
    "def serialDot(n):\n",
    "    res = 0\n",
    "    for i in range(n):\n",
    "        res += x[i]*y[i]\n",
    "    return res\n",
    "\n",
    "def parallelDot(n):\n",
    "    return np.dot(x, y)"
   ]
  },
  {
   "cell_type": "code",
   "execution_count": null,
   "id": "1ed7fc80",
   "metadata": {},
   "outputs": [
    {
     "name": "stdout",
     "output_type": "stream",
     "text": [
      "n: 100000\n",
      "Without vectorization: 0.01s\n",
      "With vectorization: 0.00s\n",
      "Speedup: 34.61x\n"
     ]
    }
   ],
   "source": [
    "\"\"\"\n",
    "Experiment\n",
    "\"\"\"\n",
    "\n",
    "n = 100000\n",
    "x = np.random.rand(n)\n",
    "y = np.random.rand(n)\n",
    "serialDur = clock(n, serialDot)\n",
    "parallelDur = clock(n, parallelDot)\n",
    "\n",
    "print(f\"n: {n}\")\n",
    "print(f\"Without vectorization: {serialDur:.2f}s\")\n",
    "print(f\"With vectorization: {parallelDur:.2f}s\")\n",
    "print(f\"Speedup: {serialDur/parallelDur:.2f}x\")"
   ]
  }
 ],
 "metadata": {
  "kernelspec": {
   "display_name": "base",
   "language": "python",
   "name": "python3"
  },
  "language_info": {
   "codemirror_mode": {
    "name": "ipython",
    "version": 3
   },
   "file_extension": ".py",
   "mimetype": "text/x-python",
   "name": "python",
   "nbconvert_exporter": "python",
   "pygments_lexer": "ipython3",
   "version": "3.12.7"
  }
 },
 "nbformat": 4,
 "nbformat_minor": 5
}
