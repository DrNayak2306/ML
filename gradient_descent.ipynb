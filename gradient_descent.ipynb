{
 "cells": [
  {
   "cell_type": "code",
   "execution_count": null,
   "id": "ae61ac12",
   "metadata": {},
   "outputs": [],
   "source": [
    "import numpy as np\n",
    "import pandas as pd\n",
    "import matplotlib.pyplot as plt\n",
    "\n",
    "n_samples = 100\n",
    "n_features = 1\n",
    "noise_std = 5.0\n",
    "\n",
    "X = np.random.rand(n_samples, n_features) * 10\n",
    "\n",
    "true_coeff = np.array([3.5])\n",
    "intercept = 7.0\n",
    "\n",
    "noise = np.random.randn(n_samples) * noise_std\n",
    "y = X @ true_coeff + intercept + noise\n",
    "\n",
    "df = pd.DataFrame(X, columns=['Feature'])\n",
    "df['Target'] = y\n",
    "#plt.figure(figsize = (8, 5))\n",
    "#plt.scatter(X, y, color='blue', label='Noise data', alpha=0.6)\n",
    "\n",
    "# plot true regression line\n",
    "x_line = np.linspace(0,10,100).reshape(-1,1)\n",
    "y_line = x_line @ true_coeff + intercept\n",
    "#plt.plot(x_line, y_line, color='red', label='True line')\n",
    "\n",
    "# plt.title('Synthetic linear regression dataset')\n",
    "# plt.xlabel('Feature')\n",
    "# plt.ylabel('Target')\n",
    "# plt.legend()\n",
    "# plt.grid(True)\n",
    "# plt.tight_layout()\n",
    "#plt.show()"
   ]
  },
  {
   "cell_type": "code",
   "execution_count": null,
   "id": "464ad7e7",
   "metadata": {},
   "outputs": [],
   "source": []
  },
  {
   "cell_type": "code",
   "execution_count": null,
   "id": "1be33d91",
   "metadata": {},
   "outputs": [],
   "source": [
    "import numpy as np\n",
    "import pandas as pd\n",
    "import matplotlib.pyplot as plt"
   ]
  },
  {
   "cell_type": "code",
   "execution_count": null,
   "id": "8103f51f",
   "metadata": {},
   "outputs": [],
   "source": [
    "n_samples = 100\n",
    "n_features = 1\n",
    "noise_std = 5.0\n",
    "\n",
    "np"
   ]
  }
 ],
 "metadata": {
  "kernelspec": {
   "display_name": "base",
   "language": "python",
   "name": "python3"
  },
  "language_info": {
   "codemirror_mode": {
    "name": "ipython",
    "version": 3
   },
   "file_extension": ".py",
   "mimetype": "text/x-python",
   "name": "python",
   "nbconvert_exporter": "python",
   "pygments_lexer": "ipython3",
   "version": "3.12.7"
  }
 },
 "nbformat": 4,
 "nbformat_minor": 5
}
