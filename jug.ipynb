{
 "cells": [
  {
   "cell_type": "markdown",
   "id": "471dede4",
   "metadata": {},
   "source": [
    "# Two jug problem with capacities x, y and target z\n",
    "## Formulation\n",
    "### State space\n",
    "$$ S = \\{(u, v) | u \\in \\{0,1,..,x\\} \\land v \\in \\{0, 1, ..., y\\}\\} $$\n",
    "\n",
    "### Actions\n",
    "$$ a1 : \\text{empty jug-1} $$\n",
    "$$ a2 : \\text{empty jug-2} $$\n",
    "$$ a3 : \\text{fill jug-1} $$\n",
    "$$ a4 : \\text{fill jug-2} $$\n",
    "$$ a5 : \\text{transfer from jug-1 to jug-2} $$\n",
    "$$ a6 : \\text{transfer from jug-2 to jug-1} $$ \n",
    "All actions cost 1\n",
    "\n",
    "### Successor function\n",
    "$$ f : S \\longrightarrow S $$\n",
    "$$ f(s|a1) = (0, v) $$\n",
    "$$ f(s|a2) =  (u, 0) $$\n",
    "$$ f(s|a3) = (x, v) $$\n",
    "$$ f(s|a4) = (u, y) $$\n",
    "$$\n",
    "f(s|a5)=\n",
    "\\begin{cases}\n",
    "(0, v+u) & \\quad \\text{when $v+u \\leq y$}\\\\ \n",
    "(u - (y-v), y) & \\quad \\text{otherwise}\n",
    "\\end{cases}\n",
    "$$\n",
    "$$\n",
    "f(s|a6)=\n",
    "\\begin{cases}\n",
    "(u+v, 0) & \\quad \\text{when $u+v \\leq x$}\\\\ \n",
    "(x, v-(x-u)) & \\quad \\text{otherwise}\n",
    "\\end{cases}\n",
    "$$\n",
    "\n",
    "### Start state\n",
    "$$ (x_0, y_0) $$\n",
    "\n",
    "### Goal states\n",
    "$$ G = \\{(z, v) | v \\in \\{0, 1, ..., y\\}\\} \\cup \\{(u, z) | u \\in \\{0, 1, ..., x\\}\\} $$\n",
    "\n",
    "## Solution\n",
    "Exhaustive state space search with Dijkstra's single source shortest path algorithm.\n",
    "\n",
    "Time complexity: $O(uva)$\\\n",
    "Space complexity: $O(uv)$"
   ]
  },
  {
   "cell_type": "code",
   "execution_count": 943,
   "id": "bdb35947",
   "metadata": {},
   "outputs": [],
   "source": [
    "x, y = 14, 15\n",
    "z = 8\n",
    "actions = [f\"e{x}\", f\"e{y}\", f\"f{x}\", f\"f{y}\", f\"t{x}{y}\", f\"t{y}{x}\"]\n",
    "start = {x:0, y:0}"
   ]
  },
  {
   "cell_type": "code",
   "execution_count": 944,
   "id": "4106dad8",
   "metadata": {},
   "outputs": [],
   "source": [
    "def successor_function(state: dict, action):\n",
    "    next = state.copy()\n",
    "    if action == f\"e{x}\":\n",
    "        # empty x jug\n",
    "        next[x] = 0\n",
    "    elif action == f\"e{y}\":\n",
    "        # empty y jug\n",
    "        next[y] = 0\n",
    "    elif action == f\"f{x}\":\n",
    "        # fill x jug\n",
    "        next[x] = x\n",
    "    elif action == f\"f{y}\":\n",
    "        # fill y jug\n",
    "        next[y] = y\n",
    "    elif action == f\"t{x}{y}\":\n",
    "        # transfer from x jug to y jug\n",
    "        space_left = y-state[y]\n",
    "        if state[x] < space_left:\n",
    "            next[y] += state[x]\n",
    "            next[x] = 0\n",
    "        else:\n",
    "            next[x] -= space_left\n",
    "            next[y] = y\n",
    "    elif action == f\"t{y}{x}\":\n",
    "        # transfer from y jug to x jug\n",
    "        space_left = x-state[x]\n",
    "        if state[y] < space_left:\n",
    "            next[x] += state[y]\n",
    "            next[y] = 0\n",
    "        else:\n",
    "            next[y] -= space_left\n",
    "            next[x] = x    \n",
    "    return next"
   ]
  },
  {
   "cell_type": "code",
   "execution_count": 945,
   "id": "1d42de06",
   "metadata": {},
   "outputs": [],
   "source": [
    "cost_array = [[float(\"inf\")] * (y+1) for _ in range(x+1)] # cost_array[x+1][y+1]\n",
    "cost_array[0][0] = 0\n",
    "\n",
    "def get_cost(state):\n",
    "    return cost_array[state[x]][state[y]]\n",
    "\n",
    "def set_cost(state, cost):\n",
    "    cost_array[state[x]][state[y]] = cost"
   ]
  },
  {
   "cell_type": "code",
   "execution_count": 946,
   "id": "4582a233",
   "metadata": {},
   "outputs": [],
   "source": [
    "def comparator(state):\n",
    "    return cost_array[state[x]][state[y]]"
   ]
  },
  {
   "cell_type": "code",
   "execution_count": 947,
   "id": "6076d32f",
   "metadata": {},
   "outputs": [],
   "source": [
    "# greedy BFS a.k.a Dijkstra's\n",
    "visited = [[False] * (y+1) for _ in range(x+1)] # visited[x+1][y+1]\n",
    "queue = [start]\n",
    "visited[start[x]][start[y]] = True\n",
    "solution = {0:[start]}\n",
    "\n",
    "while queue:\n",
    "    state = queue.pop(0)\n",
    "\n",
    "    for action in actions:\n",
    "        \n",
    "        next_state = successor_function(state, action)\n",
    "        if not visited[next_state[x]][next_state[y]]:\n",
    "            queue.append(next_state)\n",
    "            visited[next_state[x]][next_state[y]] = True\n",
    "\n",
    "        next_cost = get_cost(state) + 1\n",
    "        if next_cost < get_cost(next_state):\n",
    "            set_cost(next_state, next_cost)\n",
    "            solution[next_cost] = solution.get(next_cost, [])\n",
    "            solution[next_cost].append(next_state)\n",
    "        \n",
    "    # fix min priority queue\n",
    "    queue = sorted(queue, key=comparator)\n"
   ]
  },
  {
   "cell_type": "code",
   "execution_count": 948,
   "id": "f84603cc",
   "metadata": {},
   "outputs": [],
   "source": [
    "# solution extraction\n",
    "def first_goal():\n",
    "    for cost in solution:\n",
    "        for state in solution[cost]:\n",
    "            if z in state.values():\n",
    "                return cost, state\n",
    "\n",
    "def is_neighbor(state1, state2):\n",
    "    for action in actions:\n",
    "        if successor_function(state1, action) == state2:\n",
    "            return True\n",
    "    return False\n",
    "\n",
    "def first_solution():\n",
    "    cost, state = first_goal()\n",
    "    res = [state]\n",
    "    cost -= 1\n",
    "\n",
    "    while cost in solution:\n",
    "        for next_state in solution[cost]:\n",
    "            if is_neighbor(next_state, state):\n",
    "                res.insert(0, next_state)\n",
    "                state = next_state\n",
    "                cost -= 1\n",
    "    return res"
   ]
  },
  {
   "cell_type": "code",
   "execution_count": 949,
   "id": "f5fc6594",
   "metadata": {},
   "outputs": [
    {
     "name": "stdout",
     "output_type": "stream",
     "text": [
      "{14: 0, 15: 0} -> {14: 14, 15: 0} -> {14: 0, 15: 14} -> {14: 14, 15: 14} -> {14: 13, 15: 15} -> \n",
      "{14: 13, 15: 0} -> {14: 0, 15: 13} -> {14: 14, 15: 13} -> {14: 12, 15: 15} -> {14: 12, 15: 0} -> \n",
      "{14: 0, 15: 12} -> {14: 14, 15: 12} -> {14: 11, 15: 15} -> {14: 11, 15: 0} -> {14: 0, 15: 11} -> \n",
      "{14: 14, 15: 11} -> {14: 10, 15: 15} -> {14: 10, 15: 0} -> {14: 0, 15: 10} -> {14: 14, 15: 10} -> \n",
      "{14: 9, 15: 15} -> {14: 9, 15: 0} -> {14: 0, 15: 9} -> {14: 14, 15: 9} -> {14: 8, 15: 15}\n"
     ]
    }
   ],
   "source": [
    "# display solution\n",
    "cnt = 0\n",
    "for step in first_solution()[:-1]:\n",
    "    if cnt == 5:\n",
    "        cnt = 0\n",
    "        print()\n",
    "    print(step, end=\" -> \")\n",
    "    cnt += 1\n",
    "print(first_solution()[-1])"
   ]
  }
 ],
 "metadata": {
  "kernelspec": {
   "display_name": "base",
   "language": "python",
   "name": "python3"
  },
  "language_info": {
   "codemirror_mode": {
    "name": "ipython",
    "version": 3
   },
   "file_extension": ".py",
   "mimetype": "text/x-python",
   "name": "python",
   "nbconvert_exporter": "python",
   "pygments_lexer": "ipython3",
   "version": "3.12.7"
  }
 },
 "nbformat": 4,
 "nbformat_minor": 5
}
