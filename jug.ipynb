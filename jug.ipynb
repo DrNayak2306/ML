{
 "cells": [
  {
   "cell_type": "markdown",
   "id": "471dede4",
   "metadata": {},
   "source": [
    "# Two jug problem with capacities x, y\n",
    "## Formulation\n",
    ">**State space**  \n",
    "$$ S = \\{(u, v) | u \\in \\{0,1,..,x\\} \\land v \\in \\{0, 1, ..., y\\}\\} $$\n",
    "\n",
    ">**Actions**  \n",
    "$ a1 : \\text{empty jug-1} $\n",
    "$ a2 : \\text{empty jug-2} $\n",
    "$$ a3 : \\text{fill jug-1} $$\n",
    "$$ a4 : \\text{fill jug-2} $$\n",
    "$$ a5 : \\text{transfer from jug-1 to jug-2} $$\n",
    "$$ a6 : \\text{transfer from jug-2 to jug-1} $$ \n",
    "\n",
    ">**Successor function**  \n",
    "$$ f : S \\longrightarrow S $$\n",
    "$$ f(s|a1) = (0, v) $$\n",
    "$$ f(s|a2) =  (u, 0) $$\n",
    "$$ f(s|a3) = (x, v) $$\n",
    "$$ f(s|a4) = (u, y) $$\n",
    "$$\n",
    "f(s|a5)=\n",
    "\\begin{cases}\n",
    "(0, v+u) & \\quad \\text{when $v+u \\leq y$}\\\\ \n",
    "(u - (y-v), y) & \\quad \\text{otherwise}\n",
    "\\end{cases}\n",
    "$$\n",
    "$$\n",
    "f(s|a6)=\n",
    "\\begin{cases}\n",
    "(u+v, 0) & \\quad \\text{when $u+v \\leq x$}\\\\ \n",
    "(x, v-(x-u)) & \\quad \\text{otherwise}\n",
    "\\end{cases}\n",
    "$$\n",
    "\n",
    "\n",
    "## Solution\n",
    "> Exhaustive state space search with Dijkstra's single source shortest path algorithm.\\\n",
    "> Time complexity: $O(uva)$\\\n",
    "> Space complexity: $O(uv)$"
   ]
  },
  {
   "cell_type": "code",
   "execution_count": 828,
   "id": "bdb35947",
   "metadata": {},
   "outputs": [],
   "source": [
    "x, y = 6, 4\n",
    "cap_goal = 2\n",
    "actions = [f\"e{x}l\", f\"e{y}l\", f\"f{x}l\", f\"f{y}l\", f\"t{x}l{y}l\", f\"t{y}l{x}l\"]\n",
    "start = {x:0, y:0}\n",
    "\n",
    "visited = [[False] * (y+1) for _ in range(x+1)] # visited[3+1][4+1]\n",
    "visited[0][0] = True\n",
    "\n",
    "cost_array = [[float(\"inf\")] * (y+1) for _ in range(x+1)] # cost_array[3+1][4+1]\n",
    "cost_array[0][0] = 0\n",
    "\n",
    "solution = {0:[start]}"
   ]
  },
  {
   "cell_type": "code",
   "execution_count": 829,
   "id": "4106dad8",
   "metadata": {},
   "outputs": [],
   "source": [
    "def successor_function(state: dict, action):\n",
    "    next = state.copy()\n",
    "    if action == f\"e{x}l\":\n",
    "        # empty x jug\n",
    "        next[x] = 0\n",
    "    elif action == f\"e{y}l\":\n",
    "        # empty y jug\n",
    "        next[y] = 0\n",
    "    elif action == \"f{x}l\":\n",
    "        # fill x jug\n",
    "        next[x] = x\n",
    "    elif action == f\"f{y}l\":\n",
    "        # fill y jug\n",
    "        next[y] = y\n",
    "    elif action == f\"t{x}l{y}l\":\n",
    "        # transfer from x jug to y jug\n",
    "        space_left = y-state[y]\n",
    "        if state[x] < space_left:\n",
    "            next[y] += state[x]\n",
    "            next[x] = 0\n",
    "        else:\n",
    "            next[x] -= space_left\n",
    "            next[y] = y\n",
    "    elif action == f\"t{y}l{x}l\":\n",
    "        # transfer from y jug to x jug\n",
    "        space_left = x-state[x]\n",
    "        if state[y] < space_left:\n",
    "            next[x] += state[y]\n",
    "            next[y] = 0\n",
    "        else:\n",
    "            next[y] -= space_left\n",
    "            next[x] = x    \n",
    "    return next"
   ]
  },
  {
   "cell_type": "code",
   "execution_count": 830,
   "id": "1d42de06",
   "metadata": {},
   "outputs": [],
   "source": [
    "def get_cost(state):\n",
    "    return cost_array[state[x]][state[y]]\n",
    "def set_cost(state, cost):\n",
    "    cost_array[state[x]][state[y]] = cost"
   ]
  },
  {
   "cell_type": "code",
   "execution_count": 831,
   "id": "4582a233",
   "metadata": {},
   "outputs": [],
   "source": [
    "def comparator(state):\n",
    "    return cost_array[state[x]][state[y]]"
   ]
  },
  {
   "cell_type": "code",
   "execution_count": 832,
   "id": "6076d32f",
   "metadata": {},
   "outputs": [],
   "source": [
    "# greedy BFS a.k.a Dijkstra's\n",
    "queue = [start]\n",
    "visited[start[x]][start[y]] = True\n",
    "while queue:\n",
    "    state = queue.pop(0)\n",
    "\n",
    "    for action in actions:\n",
    "        next_state = successor_function(state, action)\n",
    "\n",
    "        if not visited[next_state[x]][next_state[y]]:\n",
    "            queue.append(next_state)\n",
    "            visited[next_state[x]][next_state[y]] = True\n",
    "\n",
    "        next_cost = get_cost(state) + 1\n",
    "        if next_cost < get_cost(next_state):\n",
    "            set_cost(next_state, next_cost)\n",
    "            solution[next_cost] = solution.get(next_cost, [])\n",
    "            solution[next_cost].append(next_state)\n",
    "        \n",
    "    # fix min priority queue\n",
    "    queue = sorted(queue, key=comparator)\n"
   ]
  },
  {
   "cell_type": "code",
   "execution_count": 833,
   "id": "f84603cc",
   "metadata": {},
   "outputs": [
    {
     "name": "stdout",
     "output_type": "stream",
     "text": [
      "{6: 0, 4: 0} -> {6: 0, 4: 4} -> {6: 4, 4: 0} -> {6: 4, 4: 4} -> {6: 6, 4: 2}\n",
      "{0: [{6: 0, 4: 0}], 1: [{6: 0, 4: 4}], 2: [{6: 4, 4: 0}], 3: [{6: 4, 4: 4}], 4: [{6: 6, 4: 2}], 5: [{6: 0, 4: 2}, {6: 6, 4: 0}, {6: 6, 4: 4}], 6: [{6: 2, 4: 0}, {6: 2, 4: 4}]}\n"
     ]
    }
   ],
   "source": [
    "# solution extraction\n",
    "def first_goal():\n",
    "    for cost in solution:\n",
    "        for state in solution[cost]:\n",
    "            if cap_goal in state.values():\n",
    "                return cost, state\n",
    "\n",
    "def is_neighbor(state1, state2):\n",
    "    for action in actions:\n",
    "        if successor_function(state1, action) == state2:\n",
    "            return True\n",
    "    return False\n",
    "\n",
    "def first_solution():\n",
    "    cost, state = first_goal()\n",
    "    res = [state]\n",
    "    cost -= 1\n",
    "\n",
    "    while cost in solution:\n",
    "        for next_state in solution[cost]:\n",
    "            if is_neighbor(next_state, state):\n",
    "                res.insert(0, next_state)\n",
    "                state = next_state\n",
    "                cost -= 1\n",
    "    return res\n",
    "\n",
    "for step in first_solution()[:-1]:\n",
    "    print(step, end=\" -> \")\n",
    "print(first_solution()[-1])\n",
    "print(solution)"
   ]
  }
 ],
 "metadata": {
  "kernelspec": {
   "display_name": "base",
   "language": "python",
   "name": "python3"
  },
  "language_info": {
   "codemirror_mode": {
    "name": "ipython",
    "version": 3
   },
   "file_extension": ".py",
   "mimetype": "text/x-python",
   "name": "python",
   "nbconvert_exporter": "python",
   "pygments_lexer": "ipython3",
   "version": "3.12.7"
  }
 },
 "nbformat": 4,
 "nbformat_minor": 5
}
